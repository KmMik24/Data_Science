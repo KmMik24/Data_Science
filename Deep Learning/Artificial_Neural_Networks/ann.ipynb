{
 "nbformat": 4,
 "nbformat_minor": 2,
 "metadata": {
  "language_info": {
   "name": "python",
   "codemirror_mode": {
    "name": "ipython",
    "version": 3
   },
   "version": "3.7.4"
  },
  "orig_nbformat": 2,
  "file_extension": ".py",
  "mimetype": "text/x-python",
  "name": "python",
  "npconvert_exporter": "python",
  "pygments_lexer": "ipython3",
  "version": 3
 },
 "cells": [
  {
   "cell_type": "code",
   "execution_count": 1,
   "metadata": {},
   "outputs": [],
   "source": [
    "# Importing the libraries\n",
    "import numpy as np\n",
    "import matplotlib.pyplot as plt\n",
    "import pandas as pd"
   ]
  },
  {
   "cell_type": "code",
   "execution_count": 20,
   "metadata": {},
   "outputs": [],
   "source": [
    "# Importing the dataset\n",
    "dataset = pd.read_csv('Churn_Modelling.csv')\n",
    "X = dataset.iloc[:, 3:13].values\n",
    "y = dataset.iloc[:, 13].values\n",
    "\n",
    "\n",
    "# Encoding categorical data\n",
    "from sklearn.preprocessing import LabelEncoder, OneHotEncoder\n",
    "from sklearn.compose import ColumnTransformer\n",
    "\n",
    "labelencoder_X_1 = LabelEncoder()\n",
    "X[:, 1] = labelencoder_X_1.fit_transform(X[:, 1])\n",
    "labelencoder_X_2 = LabelEncoder()\n",
    "X[:, 2] = labelencoder_X_2.fit_transform(X[:, 2])\n",
    "\n",
    "ct = ColumnTransformer(\n",
    "    [('one_hot_encoder', OneHotEncoder(categories='auto'), [1])],\n",
    "    remainder='passthrough',\n",
    ")\n",
    "\n",
    "X = np.array(ct.fit_transform(X), dtype=np.float)\n",
    "X = X[:, 1:]"
   ]
  },
  {
   "cell_type": "code",
   "execution_count": 45,
   "metadata": {},
   "outputs": [],
   "source": [
    "# Splitting the dataset into the Training set and Test set\n",
    "from sklearn.model_selection import train_test_split\n",
    "X_train, X_test, y_train, y_test = train_test_split(X, y, test_size = 0.2, random_state = 0)\n",
    "\n",
    "# Feature Scaling\n",
    "from sklearn.preprocessing import StandardScaler\n",
    "sc = StandardScaler()\n",
    "X_train = sc.fit_transform(X_train)\n",
    "X_test = sc.transform(X_test)"
   ]
  },
  {
   "cell_type": "code",
   "execution_count": 46,
   "metadata": {},
   "outputs": [
    {
     "name": "stderr",
     "output_type": "stream",
     "text": "Using TensorFlow backend.\n"
    }
   ],
   "source": [
    "# Importing the Keras libraries and packages\n",
    "import keras\n",
    "from keras.models import Sequential\n",
    "from keras.layers import Dense"
   ]
  },
  {
   "cell_type": "code",
   "execution_count": 47,
   "metadata": {},
   "outputs": [
    {
     "name": "stdout",
     "output_type": "stream",
     "text": "Epoch 1/100\n8000/8000 [==============================] - 3s 344us/step - loss: 0.4967 - accuracy: 0.7952\nEpoch 2/100\n8000/8000 [==============================] - 2s 260us/step - loss: 0.4304 - accuracy: 0.7960\nEpoch 3/100\n8000/8000 [==============================] - 2s 265us/step - loss: 0.4268 - accuracy: 0.7960\nEpoch 4/100\n8000/8000 [==============================] - 2s 254us/step - loss: 0.4230 - accuracy: 0.7959\nEpoch 5/100\n8000/8000 [==============================] - 2s 249us/step - loss: 0.4192 - accuracy: 0.8209\nEpoch 6/100\n8000/8000 [==============================] - 2s 278us/step - loss: 0.4165 - accuracy: 0.8260\nEpoch 7/100\n8000/8000 [==============================] - 2s 248us/step - loss: 0.4152 - accuracy: 0.8273\nEpoch 8/100\n8000/8000 [==============================] - 2s 255us/step - loss: 0.4133 - accuracy: 0.8306\nEpoch 9/100\n8000/8000 [==============================] - 2s 274us/step - loss: 0.4123 - accuracy: 0.8319\nEpoch 10/100\n8000/8000 [==============================] - 2s 259us/step - loss: 0.4111 - accuracy: 0.8328\nEpoch 11/100\n8000/8000 [==============================] - 2s 264us/step - loss: 0.4102 - accuracy: 0.8330\nEpoch 12/100\n8000/8000 [==============================] - 2s 265us/step - loss: 0.4090 - accuracy: 0.8340\nEpoch 13/100\n8000/8000 [==============================] - 2s 268us/step - loss: 0.4086 - accuracy: 0.8340\nEpoch 14/100\n8000/8000 [==============================] - 2s 258us/step - loss: 0.4079 - accuracy: 0.8336\nEpoch 15/100\n8000/8000 [==============================] - 2s 267us/step - loss: 0.4073 - accuracy: 0.8329\nEpoch 16/100\n8000/8000 [==============================] - 2s 252us/step - loss: 0.4066 - accuracy: 0.8353\nEpoch 17/100\n8000/8000 [==============================] - 2s 265us/step - loss: 0.4061 - accuracy: 0.8346\nEpoch 18/100\n8000/8000 [==============================] - 2s 253us/step - loss: 0.4060 - accuracy: 0.8346\nEpoch 19/100\n8000/8000 [==============================] - 2s 244us/step - loss: 0.4053 - accuracy: 0.8330\nEpoch 20/100\n8000/8000 [==============================] - 2s 247us/step - loss: 0.4051 - accuracy: 0.8361\nEpoch 21/100\n8000/8000 [==============================] - 2s 246us/step - loss: 0.4048 - accuracy: 0.8341\nEpoch 22/100\n8000/8000 [==============================] - 2s 251us/step - loss: 0.4049 - accuracy: 0.8355\nEpoch 23/100\n8000/8000 [==============================] - 2s 246us/step - loss: 0.4041 - accuracy: 0.8349\nEpoch 24/100\n8000/8000 [==============================] - 2s 252us/step - loss: 0.4041 - accuracy: 0.8345\nEpoch 25/100\n8000/8000 [==============================] - 2s 244us/step - loss: 0.4036 - accuracy: 0.8332\nEpoch 26/100\n8000/8000 [==============================] - 2s 247us/step - loss: 0.4035 - accuracy: 0.8363\nEpoch 27/100\n8000/8000 [==============================] - 2s 252us/step - loss: 0.4035 - accuracy: 0.8338\nEpoch 28/100\n8000/8000 [==============================] - 2s 249us/step - loss: 0.4036 - accuracy: 0.8357\nEpoch 29/100\n8000/8000 [==============================] - 2s 246us/step - loss: 0.4031 - accuracy: 0.8344\nEpoch 30/100\n8000/8000 [==============================] - 2s 249us/step - loss: 0.4033 - accuracy: 0.8356\nEpoch 31/100\n8000/8000 [==============================] - 2s 246us/step - loss: 0.4024 - accuracy: 0.8340\nEpoch 32/100\n8000/8000 [==============================] - 2s 250us/step - loss: 0.4030 - accuracy: 0.8349\nEpoch 33/100\n8000/8000 [==============================] - 2s 248us/step - loss: 0.4029 - accuracy: 0.8347\nEpoch 34/100\n8000/8000 [==============================] - 2s 246us/step - loss: 0.4023 - accuracy: 0.8346\nEpoch 35/100\n8000/8000 [==============================] - 2s 259us/step - loss: 0.4030 - accuracy: 0.8355\nEpoch 36/100\n8000/8000 [==============================] - 2s 255us/step - loss: 0.4025 - accuracy: 0.8346\nEpoch 37/100\n8000/8000 [==============================] - 2s 244us/step - loss: 0.4026 - accuracy: 0.8344\nEpoch 38/100\n8000/8000 [==============================] - 2s 222us/step - loss: 0.4026 - accuracy: 0.8340\nEpoch 39/100\n8000/8000 [==============================] - 2s 266us/step - loss: 0.4022 - accuracy: 0.8341\nEpoch 40/100\n8000/8000 [==============================] - 2s 274us/step - loss: 0.4024 - accuracy: 0.8349\nEpoch 41/100\n8000/8000 [==============================] - 2s 234us/step - loss: 0.4023 - accuracy: 0.8332\nEpoch 42/100\n8000/8000 [==============================] - 2s 235us/step - loss: 0.4022 - accuracy: 0.8354\nEpoch 43/100\n8000/8000 [==============================] - 2s 250us/step - loss: 0.4025 - accuracy: 0.8353\nEpoch 44/100\n8000/8000 [==============================] - 2s 248us/step - loss: 0.4018 - accuracy: 0.8340\nEpoch 45/100\n8000/8000 [==============================] - 2s 267us/step - loss: 0.4021 - accuracy: 0.8336\nEpoch 46/100\n8000/8000 [==============================] - 2s 263us/step - loss: 0.4021 - accuracy: 0.8340\nEpoch 47/100\n8000/8000 [==============================] - 2s 239us/step - loss: 0.4019 - accuracy: 0.8335\nEpoch 48/100\n8000/8000 [==============================] - 2s 261us/step - loss: 0.4023 - accuracy: 0.8340\nEpoch 49/100\n8000/8000 [==============================] - 2s 257us/step - loss: 0.4021 - accuracy: 0.8355\nEpoch 50/100\n8000/8000 [==============================] - 2s 252us/step - loss: 0.4022 - accuracy: 0.8339\nEpoch 51/100\n8000/8000 [==============================] - 2s 247us/step - loss: 0.4020 - accuracy: 0.8346\nEpoch 52/100\n8000/8000 [==============================] - 2s 256us/step - loss: 0.4021 - accuracy: 0.8346\nEpoch 53/100\n8000/8000 [==============================] - 2s 249us/step - loss: 0.4020 - accuracy: 0.8338\nEpoch 54/100\n8000/8000 [==============================] - 2s 257us/step - loss: 0.4018 - accuracy: 0.8346\nEpoch 55/100\n8000/8000 [==============================] - 2s 252us/step - loss: 0.4016 - accuracy: 0.8347\nEpoch 56/100\n8000/8000 [==============================] - 2s 259us/step - loss: 0.4019 - accuracy: 0.8339\nEpoch 57/100\n8000/8000 [==============================] - 2s 254us/step - loss: 0.4017 - accuracy: 0.8335\nEpoch 58/100\n8000/8000 [==============================] - 2s 250us/step - loss: 0.4017 - accuracy: 0.8347\nEpoch 59/100\n8000/8000 [==============================] - 2s 243us/step - loss: 0.4018 - accuracy: 0.8355\nEpoch 60/100\n8000/8000 [==============================] - 2s 256us/step - loss: 0.4013 - accuracy: 0.8341\nEpoch 61/100\n8000/8000 [==============================] - 2s 249us/step - loss: 0.4020 - accuracy: 0.8330\nEpoch 62/100\n8000/8000 [==============================] - 2s 250us/step - loss: 0.4019 - accuracy: 0.8345\nEpoch 63/100\n8000/8000 [==============================] - 2s 253us/step - loss: 0.4020 - accuracy: 0.8351\nEpoch 64/100\n8000/8000 [==============================] - 2s 244us/step - loss: 0.4015 - accuracy: 0.8338\nEpoch 65/100\n8000/8000 [==============================] - 2s 251us/step - loss: 0.4016 - accuracy: 0.8344\nEpoch 66/100\n8000/8000 [==============================] - 2s 256us/step - loss: 0.4021 - accuracy: 0.8342\nEpoch 67/100\n8000/8000 [==============================] - 2s 251us/step - loss: 0.4016 - accuracy: 0.8344\nEpoch 68/100\n8000/8000 [==============================] - 2s 243us/step - loss: 0.4016 - accuracy: 0.8344\nEpoch 69/100\n8000/8000 [==============================] - 2s 248us/step - loss: 0.4014 - accuracy: 0.8346\nEpoch 70/100\n8000/8000 [==============================] - 2s 261us/step - loss: 0.4019 - accuracy: 0.8339\nEpoch 71/100\n8000/8000 [==============================] - 2s 263us/step - loss: 0.4012 - accuracy: 0.8338\nEpoch 72/100\n8000/8000 [==============================] - 2s 265us/step - loss: 0.4022 - accuracy: 0.8339\nEpoch 73/100\n8000/8000 [==============================] - 2s 254us/step - loss: 0.4012 - accuracy: 0.8331\nEpoch 74/100\n8000/8000 [==============================] - 2s 248us/step - loss: 0.4018 - accuracy: 0.8339\nEpoch 75/100\n8000/8000 [==============================] - 2s 267us/step - loss: 0.4015 - accuracy: 0.8344\nEpoch 76/100\n8000/8000 [==============================] - 2s 245us/step - loss: 0.4017 - accuracy: 0.8344\nEpoch 77/100\n8000/8000 [==============================] - 2s 254us/step - loss: 0.4016 - accuracy: 0.8354\nEpoch 78/100\n8000/8000 [==============================] - 2s 257us/step - loss: 0.4018 - accuracy: 0.8347\nEpoch 79/100\n8000/8000 [==============================] - 2s 254us/step - loss: 0.4017 - accuracy: 0.8334\nEpoch 80/100\n8000/8000 [==============================] - 2s 261us/step - loss: 0.4014 - accuracy: 0.8330\nEpoch 81/100\n8000/8000 [==============================] - 2s 259us/step - loss: 0.4016 - accuracy: 0.8324\nEpoch 82/100\n8000/8000 [==============================] - 2s 256us/step - loss: 0.4016 - accuracy: 0.8346\nEpoch 83/100\n8000/8000 [==============================] - 2s 249us/step - loss: 0.4016 - accuracy: 0.8340\nEpoch 84/100\n8000/8000 [==============================] - 2s 260us/step - loss: 0.4017 - accuracy: 0.8335\nEpoch 85/100\n8000/8000 [==============================] - 2s 263us/step - loss: 0.4015 - accuracy: 0.8344\nEpoch 86/100\n8000/8000 [==============================] - 2s 260us/step - loss: 0.4015 - accuracy: 0.8338\nEpoch 87/100\n8000/8000 [==============================] - 2s 258us/step - loss: 0.4014 - accuracy: 0.8339\nEpoch 88/100\n8000/8000 [==============================] - 2s 249us/step - loss: 0.4013 - accuracy: 0.8347\nEpoch 89/100\n8000/8000 [==============================] - 2s 262us/step - loss: 0.4013 - accuracy: 0.8344\nEpoch 90/100\n8000/8000 [==============================] - 2s 258us/step - loss: 0.4018 - accuracy: 0.8351\nEpoch 91/100\n8000/8000 [==============================] - 2s 253us/step - loss: 0.4012 - accuracy: 0.8332\nEpoch 92/100\n8000/8000 [==============================] - 2s 268us/step - loss: 0.4015 - accuracy: 0.8345\nEpoch 93/100\n8000/8000 [==============================] - 2s 250us/step - loss: 0.4015 - accuracy: 0.8340\nEpoch 94/100\n8000/8000 [==============================] - 2s 254us/step - loss: 0.4011 - accuracy: 0.8355\nEpoch 95/100\n8000/8000 [==============================] - 2s 258us/step - loss: 0.4013 - accuracy: 0.8331\nEpoch 96/100\n8000/8000 [==============================] - 2s 261us/step - loss: 0.4014 - accuracy: 0.8347\nEpoch 97/100\n8000/8000 [==============================] - 2s 255us/step - loss: 0.4010 - accuracy: 0.8335\nEpoch 98/100\n8000/8000 [==============================] - 2s 261us/step - loss: 0.4014 - accuracy: 0.8345\nEpoch 99/100\n8000/8000 [==============================] - 2s 254us/step - loss: 0.4014 - accuracy: 0.8339\nEpoch 100/100\n8000/8000 [==============================] - 2s 257us/step - loss: 0.4014 - accuracy: 0.8339\n"
    },
    {
     "data": {
      "text/plain": "<keras.callbacks.callbacks.History at 0x7fae75323250>"
     },
     "execution_count": 47,
     "metadata": {},
     "output_type": "execute_result"
    }
   ],
   "source": [
    "# Initialising the ANN\n",
    "classifier = Sequential()\n",
    "\n",
    "# Adding the input layer and the first hidden layer\n",
    "classifier.add(Dense(units = 6, kernel_initializer = 'uniform', activation = 'relu', input_dim = 11))\n",
    "\n",
    "# Adding the second hidden layer\n",
    "classifier.add(Dense(units = 6, kernel_initializer = 'uniform', activation = 'relu'))\n",
    "\n",
    "# Adding the output layer\n",
    "classifier.add(Dense(units = 1, kernel_initializer = 'uniform', activation = 'sigmoid'))\n",
    "\n",
    "# Compiling the ANN\n",
    "classifier.compile(optimizer = 'adam', loss = 'binary_crossentropy', metrics = ['accuracy'])\n",
    "\n",
    "# Fitting the ANN to the Training set\n",
    "classifier.fit(X_train, y_train, batch_size = 10, epochs = 100)"
   ]
  },
  {
   "cell_type": "code",
   "execution_count": 51,
   "metadata": {},
   "outputs": [],
   "source": [
    "# Predicting the Test set results\n",
    "y_pred = classifier.predict(X_test)\n",
    "y_pred = (y_pred > 0.5)\n",
    "\n",
    "# Making the Confusion Matrix\n",
    "from sklearn.metrics import confusion_matrix\n",
    "cm = confusion_matrix(y_test, y_pred)"
   ]
  },
  {
   "cell_type": "code",
   "execution_count": 52,
   "metadata": {},
   "outputs": [],
   "source": [
    "# Predicting a single new observation\n",
    "\"\"\"Predict if the customer with the following informations will leave the bank:\n",
    "Geography: France\n",
    "Credit Score: 600\n",
    "Gender: Male\n",
    "Age: 40\n",
    "Tenure: 3\n",
    "Balance: 60000\n",
    "Number of Products: 2\n",
    "Has Credit Card: Yes\n",
    "Is Active Member: Yes\n",
    "Estimated Salary: 50000\"\"\"\n",
    "new_prediction = classifier.predict(sc.transform(np.array([[0.0, 0, 600, 1, 40, 3, 60000, 2, 1, 1, 50000]])))\n",
    "new_prediction = (new_prediction > 0.5)"
   ]
  }
 ]
}